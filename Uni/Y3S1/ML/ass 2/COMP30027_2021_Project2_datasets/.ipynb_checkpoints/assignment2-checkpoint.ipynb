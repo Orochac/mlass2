{
 "cells": [
  {
   "cell_type": "code",
   "execution_count": 1,
   "metadata": {},
   "outputs": [],
   "source": [
    "#Ideas\n",
    "#types of steps, length of steps, types of ingredients length of ingredients\n"
   ]
  },
  {
   "cell_type": "code",
   "execution_count": 2,
   "metadata": {},
   "outputs": [],
   "source": [
    "import pandas as pd\n",
    "import numpy as np\n",
    "\n",
    "CSV_LEN = 6\n",
    "\n",
    "def read_data(file):\n",
    "    df = pd.read_csv(file) \n",
    "    X = []\n",
    "    y = []\n",
    "    if df.shape[1] == CSV_LEN:\n",
    "        y = df.loc[:, 'duration_label']\n",
    "        X = df.iloc[:,:CSV_LEN-1]\n",
    "    else:\n",
    "        X = df.iloc[:,:CSV_LEN-1]\n",
    "    return X, y"
   ]
  },
  {
   "cell_type": "code",
   "execution_count": 3,
   "metadata": {},
   "outputs": [],
   "source": [
    "X, y = read_data('recipe_train.csv')\n"
   ]
  },
  {
   "cell_type": "code",
   "execution_count": 4,
   "metadata": {},
   "outputs": [],
   "source": [
    "from sklearn.tree import DecisionTreeClassifier\n",
    "\n",
    "class model1:\n",
    "    def __init__(self):\n",
    "        self.model =  DecisionTreeClassifier(random_state=0)\n",
    "        \n",
    "    def fit(self,X,y):\n",
    "        mod_X = np.array([X.loc[:,'n_steps']*X.loc[:,'n_ingredients']]).transpose()\n",
    "        self.model.fit(mod_X,y)\n",
    "        \n",
    "    def predict(self,x):\n",
    "        mod_x = x['n_steps']*x['n_ingredients']\n",
    "        return self.model.predict(mod_x,y)\n",
    "        \n",
    "    def score(self,X,y):\n",
    "        mod_X = np.array([X.loc[:,'n_steps']*X.loc[:,'n_ingredients']]).transpose()\n",
    "        return self.model.score(mod_X,y)\n",
    "        \n",
    "    "
   ]
  },
  {
   "cell_type": "code",
   "execution_count": 5,
   "metadata": {},
   "outputs": [
    {
     "data": {
      "text/plain": [
       "0.641"
      ]
     },
     "execution_count": 5,
     "metadata": {},
     "output_type": "execute_result"
    }
   ],
   "source": [
    "model = model1()\n",
    "model.fit(X,y)\n",
    "model.score(X,y)"
   ]
  },
  {
   "cell_type": "code",
   "execution_count": 6,
   "metadata": {},
   "outputs": [],
   "source": [
    "from sklearn.tree import DecisionTreeClassifier\n",
    "\n",
    "class model2:\n",
    "    def __init__(self):\n",
    "        self.model =  DecisionTreeClassifier(random_state=0)\n",
    "        \n",
    "    def fit(self,X,y):\n",
    "        mod_X = X.loc[:,['n_steps','n_ingredients']]\n",
    "        self.model.fit(mod_X,y)\n",
    "        \n",
    "    def predict(self,x):\n",
    "        mod_x = x[['n_steps','n_ingredients']]\n",
    "        return self.model.predict(mod_x,y)\n",
    "        \n",
    "    def score(self,X,y):\n",
    "        mod_X = X.loc[:,['n_steps','n_ingredients']]\n",
    "        return self.model.score(mod_X,y)"
   ]
  },
  {
   "cell_type": "code",
   "execution_count": 7,
   "metadata": {},
   "outputs": [
    {
     "data": {
      "text/plain": [
       "0.644125"
      ]
     },
     "execution_count": 7,
     "metadata": {},
     "output_type": "execute_result"
    }
   ],
   "source": [
    "model = model2()\n",
    "model.fit(X,y)\n",
    "model.score(X,y)"
   ]
  },
  {
   "cell_type": "code",
   "execution_count": 139,
   "metadata": {},
   "outputs": [],
   "source": [
    "train_corpus_name = X.loc[0:10,['name', 'steps','ingredients']]\n",
    "corpus_name = list(tokenize_corpus(train_corpus_name))"
   ]
  },
  {
   "cell_type": "code",
   "execution_count": 138,
   "metadata": {},
   "outputs": [],
   "source": [
    "#doc2vec provided code\n",
    "import gensim\n",
    "import ast\n",
    "# function to preprocess and tokenize text\n",
    "def tokenize_corpus(txt, tokens_only=False):\n",
    "\n",
    "    for line in txt.iterrows():\n",
    "        name = line[1][0]\n",
    "        steps=\"\"\n",
    "        for i in ast.literal_eval(line[1][1]):\n",
    "            steps+= \" \"+i\n",
    "        ingeredients=\"\"\n",
    "        for i in ast.literal_eval(line[1][2]):\n",
    "            ingeredients+=\" \"+i\n",
    "        row = name + \" \" + steps + \" \" + ingeredients\n",
    "        tokens = gensim.utils.simple_preprocess(row)\n",
    "        if tokens_only:\n",
    "            yield tokens\n",
    "        else:\n",
    "            yield gensim.models.doc2vec.TaggedDocument(tokens, [line[0]])"
   ]
  },
  {
   "cell_type": "code",
   "execution_count": 141,
   "metadata": {},
   "outputs": [],
   "source": [
    "#doc2vec provided code\n",
    "import gensim\n",
    "from sklearn.tree import DecisionTreeClassifier\n",
    "    \n",
    "class model3:\n",
    "    def __init__(self):\n",
    "        self.vec_size = 75\n",
    "        self.dtmodel =  DecisionTreeClassifier(random_state=0)\n",
    "        self.genmodel = gensim.models.doc2vec.Doc2Vec(vector_size=self.vec_size, min_count=1, epochs=40)\n",
    "        \n",
    "    def fit(self,X,y):\n",
    "        train_corpus_name = X.loc[:,['name', 'steps','ingredients']]\n",
    "        test_name = X.loc[:,['name','steps','ingredients']]\n",
    "\n",
    "        # tokenize a training corpus\n",
    "        corpus_name = list(tokenize_corpus(train_corpus_name))\n",
    "        # train doc2vec on the training corpus\n",
    "        self.genmodel.build_vocab(corpus_name)\n",
    "        self.genmodel.train(corpus_name, total_examples=self.genmodel.corpus_count, epochs=self.genmodel.epochs)\n",
    "\n",
    "        # tokenize new documents\n",
    "        doc = list(tokenize_corpus(test_name, tokens_only=True))\n",
    "        # generate embeddings for the new documents\n",
    "        x_test_name = np.zeros((len(doc),self.vec_size))\n",
    "        for i in range(len(doc)):\n",
    "            x_test_name[i,:] = self.genmodel.infer_vector(doc[i])\n",
    "        self.dtmodel.fit(x_test_name,y)\n",
    "        \n",
    "    def predict(self,x):\n",
    "        doc = list(tokenize_corpus(x.loc[:,['name', 'steps','ingredients']], tokens_only=True))\n",
    "        x_test_name = np.zeros((1,self.vec_size))\n",
    "        x_test_name[0,:] = self.genmodel.infer_vector(doc[0])\n",
    "        return self.dtmodel.predict(x_test_name)[0]\n",
    "        \n",
    "    def score(self,X,y):\n",
    "        doc = list(tokenize_corpus(X.loc[:,['name', 'steps','ingredients']], tokens_only=True))\n",
    "        x_test_name = np.zeros((len(doc),self.vec_size))\n",
    "        for i in range(len(doc)):\n",
    "            x_test_name[i,:] = self.genmodel.infer_vector(doc[i])\n",
    "        return self.dtmodel.score(x_test_name,y)\n",
    "    \n"
   ]
  },
  {
   "cell_type": "code",
   "execution_count": 142,
   "metadata": {},
   "outputs": [],
   "source": [
    "def write_output(model):\n",
    "    test = pd.read_csv(recipie_test.csv) \n",
    "    X, y = read_data(test)\n",
    "    f = open('output.csv', 'w')\n",
    "    writer = csv.writer(f)\n",
    "    writer.writerow(['id','duration_label'])\n",
    "    for i, row in enumerate(X):\n",
    "        writer.writerow([i,model.predict(X)[0]])\n",
    "    f.close()\n",
    "    \n"
   ]
  },
  {
   "cell_type": "code",
   "execution_count": 143,
   "metadata": {},
   "outputs": [
    {
     "data": {
      "text/plain": [
       "<generator object tokenize_corpus at 0x00000181D9215270>"
      ]
     },
     "execution_count": 143,
     "metadata": {},
     "output_type": "execute_result"
    }
   ],
   "source": [
    "tokenize_corpus(X.loc[0]['name'], tokens_only=True)"
   ]
  },
  {
   "cell_type": "code",
   "execution_count": 146,
   "metadata": {},
   "outputs": [
    {
     "data": {
      "text/plain": [
       "0.717275"
      ]
     },
     "execution_count": 146,
     "metadata": {},
     "output_type": "execute_result"
    }
   ],
   "source": [
    "model =  model3()\n",
    "model.fit(X,y)\n",
    "model.score(X,y)"
   ]
  },
  {
   "cell_type": "code",
   "execution_count": null,
   "metadata": {},
   "outputs": [],
   "source": []
  },
  {
   "cell_type": "code",
   "execution_count": null,
   "metadata": {},
   "outputs": [],
   "source": []
  }
 ],
 "metadata": {
  "kernelspec": {
   "display_name": "Python 3",
   "language": "python",
   "name": "python3"
  },
  "language_info": {
   "codemirror_mode": {
    "name": "ipython",
    "version": 3
   },
   "file_extension": ".py",
   "mimetype": "text/x-python",
   "name": "python",
   "nbconvert_exporter": "python",
   "pygments_lexer": "ipython3",
   "version": "3.8.5"
  }
 },
 "nbformat": 4,
 "nbformat_minor": 5
}
